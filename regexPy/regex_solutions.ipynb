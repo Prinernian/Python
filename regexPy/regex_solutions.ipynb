{
  "nbformat": 4,
  "nbformat_minor": 0,
  "metadata": {
    "colab": {
      "name": "regex_solutions.ipynb",
      "provenance": []
    },
    "kernelspec": {
      "name": "python3",
      "display_name": "Python 3"
    },
    "language_info": {
      "name": "python"
    }
  },
  "cells": [
    {
      "cell_type": "code",
      "source": [
        "import re"
      ],
      "metadata": {
        "id": "zYkTRioAkZDy"
      },
      "execution_count": 22,
      "outputs": []
    },
    {
      "cell_type": "markdown",
      "source": [
        "##Write a Python program that matches a string that has an a followed by two to three 'b'.\n",
        "\n",
        "\n",
        "```\n",
        "text = \"ab\" \n",
        "\n",
        "text = \"aabbbbbc\" \n",
        "```\n"
      ],
      "metadata": {
        "id": "M5JrV0BO2xz8"
      }
    },
    {
      "cell_type": "code",
      "execution_count": 23,
      "metadata": {
        "colab": {
          "base_uri": "https://localhost:8080/"
        },
        "id": "LDjjLyFPj3Fj",
        "outputId": "fc3e84f6-f93e-4933-ad5e-61f499f01922"
      },
      "outputs": [
        {
          "output_type": "stream",
          "name": "stdout",
          "text": [
            "<re.Match object; span=(1, 5), match='abbb'>\n",
            "None\n"
          ]
        }
      ],
      "source": [
        "path = 'ab{2,3}'\n",
        "matched = re.search(path, 'aabbbbc')\n",
        "print(matched)\n",
        "matched1 = re.search(path, 'bcccc')\n",
        "print(matched1)"
      ]
    },
    {
      "cell_type": "markdown",
      "source": [
        "##Write a Python program to find all words starting with 'a' or 'e' in a given string."
      ],
      "metadata": {
        "id": "Qtd9_cKg3OFb"
      }
    },
    {
      "cell_type": "code",
      "source": [
        "text = \"The following example creates an ArrayList with a capacity of 50 elements. Four elements are then added to the ArrayList and the ArrayList is trimmed accordingly.\"\n",
        "pattern = re.compile(r\"\\b[aEAe][a-zA-Z]+\")\n",
        "for words in re.findall(pattern, text):\n",
        "  print(words)"
      ],
      "metadata": {
        "colab": {
          "base_uri": "https://localhost:8080/"
        },
        "id": "Lbedzhv-kvFj",
        "outputId": "77add2ff-d41f-4295-af5f-0cfd22ab9e24"
      },
      "execution_count": 24,
      "outputs": [
        {
          "output_type": "stream",
          "name": "stdout",
          "text": [
            "example\n",
            "an\n",
            "ArrayList\n",
            "elements\n",
            "elements\n",
            "are\n",
            "added\n",
            "ArrayList\n",
            "and\n",
            "ArrayList\n",
            "accordingly\n"
          ]
        }
      ]
    },
    {
      "cell_type": "markdown",
      "source": [
        "##Write a Python program that matches a word containing 'z', not at the start or end of the word."
      ],
      "metadata": {
        "id": "bxc4KI8W3m41"
      }
    },
    {
      "cell_type": "code",
      "source": [
        "text = \"The qzuick brozwn fox jumps over the lazy zdog.\"\n",
        "text10 = \"Python Exercises.\"\n",
        "pattern = re.compile(r\"[a-z]+\\B[zZ][a-z]+\")\n",
        "for zword in re.findall(pattern, text):\n",
        "  print(zword)"
      ],
      "metadata": {
        "colab": {
          "base_uri": "https://localhost:8080/"
        },
        "id": "M1qyEUKBlKDS",
        "outputId": "9aa391b4-4d43-459b-cbec-80969ca5a610"
      },
      "execution_count": 25,
      "outputs": [
        {
          "output_type": "stream",
          "name": "stdout",
          "text": [
            "qzuick\n",
            "brozwn\n",
            "lazy\n"
          ]
        }
      ]
    },
    {
      "cell_type": "markdown",
      "source": [
        "##Write a Python program to separate and print the numbers of a given string."
      ],
      "metadata": {
        "id": "FXeEfKbz3tYM"
      }
    },
    {
      "cell_type": "code",
      "source": [
        "text = \"Ten 10, Twenty 20, Thirty 30\"\n",
        "pattern = re.compile(r\"\\d+\")\n",
        "for number in re.findall(pattern, text):\n",
        "  print(number)"
      ],
      "metadata": {
        "colab": {
          "base_uri": "https://localhost:8080/"
        },
        "id": "xYJFD4eXne3x",
        "outputId": "cbdb53a0-eaab-4c8a-9c93-1d5f04e69779"
      },
      "execution_count": 26,
      "outputs": [
        {
          "output_type": "stream",
          "name": "stdout",
          "text": [
            "10\n",
            "20\n",
            "30\n"
          ]
        }
      ]
    },
    {
      "cell_type": "markdown",
      "source": [
        "##Write a Python program to insert spaces between words starting with capital letters."
      ],
      "metadata": {
        "id": "OMe4_Zke4hac"
      }
    },
    {
      "cell_type": "code",
      "source": [
        "#first solution\n",
        "text = \"HelloIamEmadRezaHowHaveYoubeenIntheNameofsomethingCalledGodWithMoreAndMoreProhibition.\"\n",
        "pattern = r\"[A-Z][a-z]+\"\n",
        "for i in re.finditer(pattern, text):\n",
        "  print(i.group(0), end = \" \")"
      ],
      "metadata": {
        "id": "fnyiThtg31Tk",
        "colab": {
          "base_uri": "https://localhost:8080/"
        },
        "outputId": "b27cc454-6300-44c3-fa89-1dc843141957"
      },
      "execution_count": 27,
      "outputs": [
        {
          "output_type": "stream",
          "name": "stdout",
          "text": [
            "Hello Iam Emad Reza How Have Youbeen Inthe Nameofsomething Called God With More And More Prohibition "
          ]
        }
      ]
    },
    {
      "cell_type": "code",
      "source": [
        "#second solutin\n",
        "text1 = \"HelloIamEmadRezaHowHaveYoubeenIntheNameofsomethingCalledGodWithMoreAndMoreProhibition.\"\n",
        "words = re.findall(r\"[A-Z][a-z]+\", text1)\n",
        "print(\" \".join(words))"
      ],
      "metadata": {
        "id": "BDguoFtIBLGu",
        "colab": {
          "base_uri": "https://localhost:8080/"
        },
        "outputId": "9b34202f-b7e2-4c32-acf0-66d71da3ae47"
      },
      "execution_count": 28,
      "outputs": [
        {
          "output_type": "stream",
          "name": "stdout",
          "text": [
            "Hello Iam Emad Reza How Have Youbeen Inthe Nameofsomething Called God With More And More Prohibition\n"
          ]
        }
      ]
    },
    {
      "cell_type": "markdown",
      "source": [
        "##Write a Python program to remove words from a string of length between 1 and a given number."
      ],
      "metadata": {
        "id": "5sui1GWr4mxp"
      }
    },
    {
      "cell_type": "code",
      "source": [
        "my_text = \"Hello Iam Emad Reza How Have You been? In the Name Of Something Called God With More And More Prohibition.\"\n",
        "number_of_words = int(input(\"please enter number of words you want to ban from above string: \"))\n",
        "if number_of_words <= len(re.findall('\\w+', my_text)):\n",
        "  print(re.sub(\"\\w+\", \"\", my_text, number_of_words))\n",
        "else: print(\"invalid number\")"
      ],
      "metadata": {
        "id": "Ss4urFf64qtq",
        "colab": {
          "base_uri": "https://localhost:8080/"
        },
        "outputId": "bee427f8-8843-49d1-b157-066e22d957ee"
      },
      "execution_count": 29,
      "outputs": [
        {
          "output_type": "stream",
          "name": "stdout",
          "text": [
            "please enter number of words you want to ban from above string: 5\n",
            "     Have You been? In the Name Of Something Called God With More And More Prohibition.\n"
          ]
        }
      ]
    },
    {
      "cell_type": "markdown",
      "source": [
        "##Write a Python program to find all adverbs and their positions in a given sentence."
      ],
      "metadata": {
        "id": "qq-5CBzJ4rQF"
      }
    },
    {
      "cell_type": "code",
      "source": [
        "text = \"\"\"The desk is made of an especially corrosion-resistant industrial steel.\n",
        "          The power company uses huge generators which are generally turned by steam turbines.\n",
        "          Jaime won the race, because he ran quickly.\n",
        "          This fence was installed sloppily. It needs to be redone.\"\"\"\n",
        "\n",
        "pattern = r\"\\b\\w+ly\\b\"\n",
        "print(re.findall(pattern, text))\n",
        "for i in re.finditer(pattern, text):\n",
        "  print(i.group(), \"'s position based on counting character---->\", i.span())               ###also can be i.span(0) and i.group(0)"
      ],
      "metadata": {
        "id": "EAQyWF9U4vtC",
        "colab": {
          "base_uri": "https://localhost:8080/"
        },
        "outputId": "2d677818-50c3-4cad-f0c5-2f9ab545e7de"
      },
      "execution_count": 30,
      "outputs": [
        {
          "output_type": "stream",
          "name": "stdout",
          "text": [
            "['especially', 'generally', 'quickly', 'sloppily']\n",
            "especially 's position based on counting character----> (23, 33)\n",
            "generally 's position based on counting character----> (131, 140)\n",
            "quickly 's position based on counting character----> (212, 219)\n",
            "sloppily 's position based on counting character----> (256, 264)\n"
          ]
        }
      ]
    },
    {
      "cell_type": "markdown",
      "source": [
        "##Write a Python program to find urls in a string."
      ],
      "metadata": {
        "id": "NrRj2QsK4yy7"
      }
    },
    {
      "cell_type": "code",
      "source": [
        "text = \"\"\"https://www.keycdn.com, \n",
        "          https://www.venafi.com, there must be wrong doing, chronological, \n",
        "          Here is a great website https://www.avira.com, typical of him, like always\n",
        "          https://www.tarafdari.com/, https://en.wikipedia.org/wiki/umami, there is also a conundrum in this supposition, \n",
        "          https://www.youtube.com/feed/trending\"\"\"\n",
        "\n",
        "url_pattern = ('http[s]?://(?:[a-zA-Z]|[$-_@.&+]|[0-9]|(?:%[0-9a-fA-F][0-9a-fA-F])|[!*\\(\\),])+')\n",
        "re.findall(url_pattern, text)"
      ],
      "metadata": {
        "id": "GijE0IA741lx",
        "outputId": "760cee52-9284-445f-f16e-b21316d0abe3",
        "colab": {
          "base_uri": "https://localhost:8080/"
        }
      },
      "execution_count": 31,
      "outputs": [
        {
          "output_type": "execute_result",
          "data": {
            "text/plain": [
              "['https://www.keycdn.com,',\n",
              " 'https://www.venafi.com,',\n",
              " 'https://www.avira.com,',\n",
              " 'https://www.tarafdari.com/,',\n",
              " 'https://en.wikipedia.org/wiki/umami,',\n",
              " 'https://www.youtube.com/feed/trending']"
            ]
          },
          "metadata": {},
          "execution_count": 31
        }
      ]
    }
  ]
}