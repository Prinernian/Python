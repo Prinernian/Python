{
  "nbformat": 4,
  "nbformat_minor": 0,
  "metadata": {
    "colab": {
      "name": "generators.ipynb",
      "provenance": []
    },
    "kernelspec": {
      "name": "python3",
      "display_name": "Python 3"
    },
    "language_info": {
      "name": "python"
    }
  },
  "cells": [
    {
      "cell_type": "markdown",
      "source": [
        "------\n",
        "## Generators in Python\n",
        "------\n",
        "1. What is a generator?  \n",
        "  * Generators in Python are a simple way to make iterators.\n",
        "2. What does yield do?\n",
        "  * The yield statement stops the function and saves all of its states; the function then continues from where it stopped on the next call.\n",
        "3. What does return do?\n",
        "  * It terminates a function entirely."
      ],
      "metadata": {
        "id": "H-hIGg8DfgIa"
      }
    },
    {
      "cell_type": "code",
      "execution_count": 85,
      "metadata": {
        "id": "iLQ4YOeuffds"
      },
      "outputs": [],
      "source": [
        "def series():\n",
        "    for i in range(10):\n",
        "        print(\"{}\".format(i))\n",
        "        yield i"
      ]
    },
    {
      "cell_type": "code",
      "source": [
        "a = series()\n",
        "next(a)\n",
        "next(a)\n",
        "next(a)\n",
        "next(a)\n",
        "next(a)\n",
        "next(a)\n",
        "next(a)\n",
        "next(a)\n",
        "next(a)\n",
        "next(a)"
      ],
      "metadata": {
        "colab": {
          "base_uri": "https://localhost:8080/"
        },
        "id": "a2xioPt7iTn4",
        "outputId": "57ef7271-5acf-47b3-d042-8f239c17b13b"
      },
      "execution_count": 86,
      "outputs": [
        {
          "output_type": "stream",
          "name": "stdout",
          "text": [
            "0\n",
            "1\n",
            "2\n",
            "3\n",
            "4\n",
            "5\n",
            "6\n",
            "7\n",
            "8\n",
            "9\n"
          ]
        },
        {
          "output_type": "execute_result",
          "data": {
            "text/plain": [
              "9"
            ]
          },
          "metadata": {},
          "execution_count": 86
        }
      ]
    },
    {
      "cell_type": "code",
      "source": [
        "def cat():\n",
        "    n = \"miouw\"\n",
        "    n += \"1\"\n",
        "    yield n\n",
        "\n",
        "    n += \"2\"\n",
        "    yield n\n",
        "\n",
        "    n += \"3\"\n",
        "    yield n"
      ],
      "metadata": {
        "id": "j60VQAwwiXN0"
      },
      "execution_count": 87,
      "outputs": []
    },
    {
      "cell_type": "code",
      "source": [
        "for stat in cat():\n",
        "    print(stat)"
      ],
      "metadata": {
        "colab": {
          "base_uri": "https://localhost:8080/"
        },
        "id": "x93jJIK2igFm",
        "outputId": "ce0d66d5-2682-40dd-efad-4ebb813ca231"
      },
      "execution_count": 88,
      "outputs": [
        {
          "output_type": "stream",
          "name": "stdout",
          "text": [
            "miouw1\n",
            "miouw12\n",
            "miouw123\n"
          ]
        }
      ]
    },
    {
      "cell_type": "code",
      "source": [
        "from datetime import date, time, datetime"
      ],
      "metadata": {
        "id": "cxsnNk9anSjH"
      },
      "execution_count": 89,
      "outputs": []
    },
    {
      "cell_type": "code",
      "source": [
        "now = datetime.now()"
      ],
      "metadata": {
        "id": "bdmPuvSFnxJN"
      },
      "execution_count": 90,
      "outputs": []
    },
    {
      "cell_type": "code",
      "source": [
        "def redialMemory():\n",
        "    # phone number\n",
        "    x = +98912100038\n",
        "    print(\"{}:{}:{}\".format(now.hour, now.minute, now.second))\n",
        "    yield x\n",
        "\n",
        "    # phone number\n",
        "    x = +98912585965\n",
        "    print(\"{}:{}:{}\".format(now.hour, now.minute, now.second))\n",
        "    yield x\n",
        "\n",
        "    # phone number\n",
        "    x = +98912874693\n",
        "    print(\"{}:{}:{}\".format(now.hour, now.minute, now.second))\n",
        "    yield x"
      ],
      "metadata": {
        "id": "vhvTe8Qtiit_"
      },
      "execution_count": 91,
      "outputs": []
    },
    {
      "cell_type": "code",
      "source": [
        "for number in redialMemory():\n",
        "  print(number)"
      ],
      "metadata": {
        "colab": {
          "base_uri": "https://localhost:8080/"
        },
        "id": "NDTlSIXzmFSz",
        "outputId": "e3a2b54c-cbbe-4b7c-8c4f-e39930135e9e"
      },
      "execution_count": 92,
      "outputs": [
        {
          "output_type": "stream",
          "name": "stdout",
          "text": [
            "15:59:18\n",
            "98912100038\n",
            "15:59:18\n",
            "98912585965\n",
            "15:59:18\n",
            "98912874693\n"
          ]
        }
      ]
    },
    {
      "cell_type": "code",
      "source": [
        "instance = redialMemory()\n",
        "print(next(instance))\n",
        "print(next(instance))\n",
        "print(next(instance))"
      ],
      "metadata": {
        "colab": {
          "base_uri": "https://localhost:8080/"
        },
        "id": "0rP_xpxzmxTO",
        "outputId": "ea612292-d068-4c5e-974b-7babd7ad3731"
      },
      "execution_count": 93,
      "outputs": [
        {
          "output_type": "stream",
          "name": "stdout",
          "text": [
            "15:59:18\n",
            "98912100038\n",
            "15:59:18\n",
            "98912585965\n",
            "15:59:18\n",
            "98912874693\n"
          ]
        }
      ]
    },
    {
      "cell_type": "code",
      "source": [
        "def infinite_evens():\n",
        "    n = 0\n",
        "    while True:\n",
        "        yield n\n",
        "        n = n + 2"
      ],
      "metadata": {
        "id": "WkvjzJERrVUp"
      },
      "execution_count": 94,
      "outputs": []
    },
    {
      "cell_type": "code",
      "source": [
        "for i in infinite_evens():\n",
        "  if i > 100:\n",
        "    break\n",
        "  else: print(i)"
      ],
      "metadata": {
        "colab": {
          "base_uri": "https://localhost:8080/"
        },
        "id": "o9SnMawyrXN5",
        "outputId": "8a57cbe8-3734-4489-af70-f0d8833b42c1"
      },
      "execution_count": 95,
      "outputs": [
        {
          "output_type": "stream",
          "name": "stdout",
          "text": [
            "0\n",
            "2\n",
            "4\n",
            "6\n",
            "8\n",
            "10\n",
            "12\n",
            "14\n",
            "16\n",
            "18\n",
            "20\n",
            "22\n",
            "24\n",
            "26\n",
            "28\n",
            "30\n",
            "32\n",
            "34\n",
            "36\n",
            "38\n",
            "40\n",
            "42\n",
            "44\n",
            "46\n",
            "48\n",
            "50\n",
            "52\n",
            "54\n",
            "56\n",
            "58\n",
            "60\n",
            "62\n",
            "64\n",
            "66\n",
            "68\n",
            "70\n",
            "72\n",
            "74\n",
            "76\n",
            "78\n",
            "80\n",
            "82\n",
            "84\n",
            "86\n",
            "88\n",
            "90\n",
            "92\n",
            "94\n",
            "96\n",
            "98\n",
            "100\n"
          ]
        }
      ]
    }
  ]
}